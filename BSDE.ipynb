{
  "nbformat": 4,
  "nbformat_minor": 0,
  "metadata": {
    "colab": {
      "provenance": [],
      "authorship_tag": "ABX9TyNO8KtQXEuMfk210CXSXD6Q",
      "include_colab_link": true
    },
    "kernelspec": {
      "name": "python3",
      "display_name": "Python 3"
    },
    "language_info": {
      "name": "python"
    }
  },
  "cells": [
    {
      "cell_type": "markdown",
      "metadata": {
        "id": "view-in-github",
        "colab_type": "text"
      },
      "source": [
        "<a href=\"https://colab.research.google.com/github/EmilianoEliasDena/MX-US/blob/master/BSDE.ipynb\" target=\"_parent\"><img src=\"https://colab.research.google.com/assets/colab-badge.svg\" alt=\"Open In Colab\"/></a>"
      ]
    },
    {
      "cell_type": "markdown",
      "source": [
        "This code defines a function named price that simulates the evolution of prices over time using the Euler-Maruyama method. The function takes two input arguments: dt, which specifies the time increment between simulated observations, and n_periods, which specifies the total number of simulated observations.\n",
        "\n",
        "The function first initializes an array prices of zeros with dimensions n_periods to store the simulated price values. It then defines two functions, drift_rate and diffusion_rate, which represent the drift and diffusion rates of the price evolution process, respectively.\n",
        "\n",
        "Next, the function uses a for loop to simulate the evolution of the system for n_periods time steps, using the Euler-Maruyama method to approximate the solutions of the SDEs. For each iteration of the for loop, the function computes the next price value using the Euler-Maruyama method and stores it in the prices array.\n",
        "\n",
        "Finally, the function returns the array of simulated prices. In the example, the function is called with dt=1 and n_periods=10, which means that the evolution of prices is simulated for 10 time periods with a time increment of 1 between each simulated observation. The resulting array of simulated prices is then printed to the console."
      ],
      "metadata": {
        "id": "sf7HsMi2ZqY1"
      }
    },
    {
      "cell_type": "code",
      "execution_count": 1,
      "metadata": {
        "colab": {
          "base_uri": "https://localhost:8080/"
        },
        "id": "aZgVbUbpZnpl",
        "outputId": "d0c7fa16-19bd-4596-ce06-8b5de58cb72e"
      },
      "outputs": [
        {
          "output_type": "stream",
          "name": "stdout",
          "text": [
            "[-0.06270827 -2.30546696 -4.97299203 -3.34681316 -4.03251351 -2.36909445\n",
            " -5.17323958 -7.03163632 -8.48085482 -8.0725276 ]\n"
          ]
        }
      ],
      "source": [
        "import numpy as np\n",
        "\n",
        "def price(dt, n_periods):\n",
        "    # Initialize array to store simulated prices\n",
        "    prices = np.zeros(n_periods)\n",
        "\n",
        "    # Define drift and diffusion rate functions\n",
        "    def drift_rate(t, x):\n",
        "        return 0.1\n",
        "    def diffusion_rate(t, x):\n",
        "        return 3\n",
        "\n",
        "    # Simulate price evolution using Euler-Maruyama method\n",
        "    for i in range(n_periods):\n",
        "        # Compute next price using Euler-Maruyama method\n",
        "        prices[i] = prices[i-1] + drift_rate(i*dt, prices[i-1]) * dt + diffusion_rate(i*dt, prices[i-1]) * np.random.normal(0, dt**0.5)\n",
        "\n",
        "    return prices\n",
        "\n",
        "# Simulate evolution of prices for 10 periods with dt=1\n",
        "prices = price(1, 10)\n",
        "print(prices)\n"
      ]
    },
    {
      "cell_type": "markdown",
      "source": [
        "This is a correct implementation of the f function in Python. The function takes four input arguments: x, eta, beta, and alpha, and it calculates and returns the generator function for the given system. The function first calculates the value of theta as the product of alpha and beta, and then it calculates the generator function as the product of x and theta, plus the square of theta divided by twice eta. The calculated generator function is then returned as the output of the function."
      ],
      "metadata": {
        "id": "MCzpYaelZ9yh"
      }
    },
    {
      "cell_type": "code",
      "source": [
        "def f(x, eta, beta, alpha):\n",
        "    # Calculate theta as alpha * beta\n",
        "    theta = alpha * beta\n",
        "\n",
        "    # Calculate the generator function\n",
        "    generator = x * theta + (theta**2) / (2 * eta)\n",
        "\n",
        "    return generator"
      ],
      "metadata": {
        "id": "QPsM_BCLaeMN"
      },
      "execution_count": 2,
      "outputs": []
    },
    {
      "cell_type": "markdown",
      "source": [
        "The trunca function takes two inputs: a vector X and a scalar n. It returns a new vector H, in which each element h of H is the truncated value of the corresponding element x of X.\n",
        "\n",
        "Here, \"truncated value\" means that if x is less than or equal to -(n+2), h is set to -(n+1). If x is greater than -(n+2) and less than or equal to -n, h is set to (n^2 + 2*n*x + x*(x+4)) / 4. If x is greater than -n and less than or equal to n, h is set to x. If x is greater than n and less than (n+2), h is set to (-n^2 + 2*n*x - x*(x-4)) / 4. Otherwise, if x is greater than or equal to (n+2), h is set to n+1.\n",
        "\n",
        "The function iterates over the elements of X and applies the truncation rules to each element in order to compute the corresponding element of H. It then returns the resulting vector H."
      ],
      "metadata": {
        "id": "QUZuSPhnamFT"
      }
    },
    {
      "cell_type": "code",
      "source": [
        "def trunca(X, n):\n",
        "    # Initialize array to store truncated values\n",
        "    H = np.zeros(len(X))\n",
        "\n",
        "    # Iterate over elements of X\n",
        "    for i in range(len(X)):\n",
        "        x = X[i]\n",
        "        if x <= -(n+2):\n",
        "            # Set h to -(n+1)\n",
        "            h = -(n+1)\n",
        "        elif x > -(n+2) and x <= -n:\n",
        "            # Set h to (n^2 + 2*n*x + x*(x+4))/4\n",
        "            h = (n**2 + 2*n*x + x*(x+4)) / 4\n",
        "        elif x > -n and x <= n:\n",
        "            # Set h to x\n",
        "            h = x\n",
        "        elif x > n and x < (n+2):\n",
        "            # Set h to (-n^2+2*n*x-x*(x-4))/4\n",
        "            h = (-n**2+2*n*x-x*(x-4)) / 4\n",
        "        else:\n",
        "            # Set h to n+1\n",
        "            h = n+1\n",
        "        # Store truncated value in H\n",
        "        H[i] = h\n",
        "\n",
        "    return H\n"
      ],
      "metadata": {
        "id": "ICMU0xPTam4j"
      },
      "execution_count": 3,
      "outputs": []
    },
    {
      "cell_type": "markdown",
      "source": [
        "A backward stochastic differential equation (BSDE) is a type of stochastic differential equation (SDE) that describes the evolution of a random variable over time, with the time variable running in the opposite direction from a typical SDE. In other words, a BSDE starts at a specified terminal time and works its way backwards in time.\n",
        "\n",
        "The equation provided in the question is a specific example of a BSDE. It describes the evolution of a random variable Y over time, with the time variable running backwards from some specified terminal time T. The equation has two terms on the right-hand side: a deterministic term involving the function f and the variables t, Yt, and Zt, and a stochastic term involving the random variable Z and a standard Brownian motion W.\n",
        "\n",
        "The equation also specifies two constant parameters: eta and beta. In addition, the code defines two additional constants, alpha and theta, which are defined as alpha = 1 and theta = alpha * beta."
      ],
      "metadata": {
        "id": "W7UvouOQgJTY"
      }
    },
    {
      "cell_type": "code",
      "source": [
        "## Backward Stochastic Differential Equation\n",
        "# -dYt = f(t, Yt, Zt)dt - Zt dWt\n",
        "\n",
        "YT = 0\n",
        "eta = 5\n",
        "beta = 2\n",
        "alpha = 1\n",
        "theta = alpha*beta\n",
        "\n",
        "import numpy as np\n",
        "\n",
        "N = 100\n",
        "itera = 1000\n",
        "\n",
        "Y = np.zeros((N, itera))\n",
        "Z = np.zeros((N, itera))\n",
        "pi = np.zeros((N, itera))\n",
        "x = np.linspace(0, 1, N)\n",
        "delta = 1/N\n",
        "sdelta = np.sqrt(1/N)\n",
        "EsperanzaY = 0\n",
        "EsperanzaZ = 0\n",
        "\n",
        "for k in range(1, itera):\n",
        "    z = np.zeros(N)\n",
        "    y = np.zeros(N)\n",
        "    # terminal value\n",
        "    y = price(0.001, N)\n",
        "    #y[N]=0;\n",
        "    for i in range(N-1, 0, -1):\n",
        "        for j in range(1, i+1):\n",
        "            z[i, j] = (y[i+1, j] - y[i+1, j+1]) / (2 * sdelta)\n",
        "            y[i, j] = (y[i+1, j] + y[i+1, j+1]) / 2 + f(trunca(z[i, j], n), eta, beta, alpha) * delta\n",
        "    EsperanzaY += y\n",
        "    EsperanzaZ += z\n",
        "    pi[:, k] = (z[:, 1] + theta/eta) / beta\n",
        "    Y[:, k] = y[:, 1]\n",
        "    Z[:, k] = z[:, 1]\n",
        "\n",
        "EsperanzaY = EsperanzaY / itera\n",
        "EsperanzaZ = EsperanzaZ / itera"
      ],
      "metadata": {
        "id": "xko_rmb4jwuG"
      },
      "execution_count": null,
      "outputs": []
    }
  ]
}